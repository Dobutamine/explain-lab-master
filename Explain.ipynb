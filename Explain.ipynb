{
 "cells": [
  {
   "cell_type": "code",
   "execution_count": 1,
   "id": "696b5e8d-0289-467f-8b63-6e904d5c9da9",
   "metadata": {},
   "outputs": [
    {
     "name": "stdout",
     "output_type": "stream",
     "text": [
      "normal neonate model loaded and initialized correctly.\n"
     ]
    }
   ],
   "source": [
    "%config Completer.use_jedi = False\n",
    "from ModelEngine import ModelEngine\n",
    "neo = ModelEngine('normal_neonate.json').io"
   ]
  },
  {
   "cell_type": "code",
   "execution_count": null,
   "id": "16f4041a-e939-4e09-966d-e6c2d9312b7e",
   "metadata": {},
   "outputs": [],
   "source": []
  }
 ],
 "metadata": {
  "kernelspec": {
   "display_name": "PyPy",
   "language": "python",
   "name": "pypy"
  },
  "language_info": {
   "codemirror_mode": {
    "name": "ipython",
    "version": 3
   },
   "file_extension": ".py",
   "mimetype": "text/x-python",
   "name": "python",
   "nbconvert_exporter": "python",
   "pygments_lexer": "ipython3",
   "version": "3.7.10"
  }
 },
 "nbformat": 4,
 "nbformat_minor": 5
}
