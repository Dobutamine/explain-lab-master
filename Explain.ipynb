{
 "cells": [
  {
   "cell_type": "code",
   "execution_count": 1,
   "id": "696b5e8d-0289-467f-8b63-6e904d5c9da9",
   "metadata": {},
   "outputs": [
    {
     "name": "stdout",
     "output_type": "stream",
     "text": [
      "normal neonate model loaded and initialized correctly.\n"
     ]
    }
   ],
   "source": [
    "%config Completer.use_jedi = False\n",
    "from ModelEngine import ModelEngine\n",
    "neo = ModelEngine('normal_neonate.json').io"
   ]
  },
  {
   "cell_type": "code",
   "execution_count": 10,
   "id": "87a3d47f-62e4-4ceb-b285-bc9ab64686cc",
   "metadata": {},
   "outputs": [
    {
     "name": "stdout",
     "output_type": "stream",
     "text": [
      "Calculating model run of 1800 sec. in 3600000 steps.\n",
      "Ready in 46.639 sec. Average model step in 0.013 ms.\n"
     ]
    }
   ],
   "source": [
    "neo.calculate(1800)\n",
    "ALL = neo.model.components['ALL']\n",
    "OUT = neo.model.components['OUT']"
   ]
  },
  {
   "cell_type": "code",
   "execution_count": 11,
   "id": "ca39c10c-9c4a-4272-adb4-148c2f101c0f",
   "metadata": {},
   "outputs": [
    {
     "data": {
      "text/plain": [
       "[142.24987423537797,\n",
       " 6.246772520121611,\n",
       " 0.27159880522267876,\n",
       " 530.2287674959746,\n",
       " 44.86356120129649]"
      ]
     },
     "execution_count": 11,
     "metadata": {},
     "output_type": "execute_result"
    }
   ],
   "source": [
    "ALL.gas_partial_pressures"
   ]
  },
  {
   "cell_type": "code",
   "execution_count": 12,
   "id": "32c2dac2-a5e9-4da2-9795-5f89c1881d6a",
   "metadata": {},
   "outputs": [
    {
     "data": {
      "text/plain": [
       "[156.05152161871857,\n",
       " 6.852859183256398,\n",
       " 0.297950399272019,\n",
       " 581.6736669788061,\n",
       " 7.52400020146762]"
      ]
     },
     "execution_count": 12,
     "metadata": {},
     "output_type": "execute_result"
    }
   ],
   "source": [
    "OUT.gas_partial_pressures"
   ]
  },
  {
   "cell_type": "code",
   "execution_count": null,
   "id": "d0bc8593-648c-411c-8836-6c7ef587690e",
   "metadata": {},
   "outputs": [],
   "source": []
  }
 ],
 "metadata": {
  "kernelspec": {
   "display_name": "PyPy",
   "language": "python",
   "name": "pypy"
  },
  "language_info": {
   "codemirror_mode": {
    "name": "ipython",
    "version": 3
   },
   "file_extension": ".py",
   "mimetype": "text/x-python",
   "name": "python",
   "nbconvert_exporter": "python",
   "pygments_lexer": "ipython3",
   "version": "3.7.10"
  }
 },
 "nbformat": 4,
 "nbformat_minor": 5
}
