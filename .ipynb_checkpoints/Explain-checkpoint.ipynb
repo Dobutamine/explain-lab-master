{
 "cells": [
  {
   "cell_type": "code",
   "execution_count": 1,
   "id": "696b5e8d-0289-467f-8b63-6e904d5c9da9",
   "metadata": {},
   "outputs": [
    {
     "name": "stdout",
     "output_type": "stream",
     "text": [
      "normal neonate model loaded and initialized correctly.\n"
     ]
    }
   ],
   "source": [
    "%config Completer.use_jedi = False\n",
    "from ModelEngine import ModelEngine\n",
    "neo = ModelEngine('normal_neonate.json').io"
   ]
  },
  {
   "cell_type": "code",
   "execution_count": 2,
   "id": "87a3d47f-62e4-4ceb-b285-bc9ab64686cc",
   "metadata": {},
   "outputs": [
    {
     "name": "stdout",
     "output_type": "stream",
     "text": [
      "Calculating model run of 60 sec. in 120000 steps.\n",
      "Ready in 2.779 sec. Average model step in 0.0232 ms.\n"
     ]
    },
    {
     "data": {
      "text/plain": [
       "0.063"
      ]
     },
     "execution_count": 2,
     "metadata": {},
     "output_type": "execute_result"
    }
   ],
   "source": [
    "neo.calculate(60)\n",
    "ALL = neo.model.components['OUT']\n",
    "ALL.gas_fractions[ALL.h2o_index]"
   ]
  },
  {
   "cell_type": "code",
   "execution_count": 3,
   "id": "8c37806d-5a00-45bd-a202-404ff0b58b49",
   "metadata": {},
   "outputs": [
    {
     "data": {
      "text/plain": [
       "39.98390728473037"
      ]
     },
     "execution_count": 3,
     "metadata": {},
     "output_type": "execute_result"
    }
   ],
   "source": [
    "ALL.c_total"
   ]
  },
  {
   "cell_type": "code",
   "execution_count": 4,
   "id": "f6d6eed6-316a-4adb-b233-4a7f0d658862",
   "metadata": {},
   "outputs": [
    {
     "data": {
      "text/plain": [
       "760.000020350265"
      ]
     },
     "execution_count": 4,
     "metadata": {},
     "output_type": "execute_result"
    }
   ],
   "source": [
    "ALL.pres"
   ]
  },
  {
   "cell_type": "code",
   "execution_count": 5,
   "id": "94756d6e-953f-4f63-b8af-e62b961cb6c5",
   "metadata": {},
   "outputs": [
    {
     "data": {
      "text/plain": [
       "0.063"
      ]
     },
     "execution_count": 5,
     "metadata": {},
     "output_type": "execute_result"
    }
   ],
   "source": [
    "ALL.gas_fractions[ALL.h2o_index]"
   ]
  },
  {
   "cell_type": "code",
   "execution_count": 6,
   "id": "5e9426dc-bf30-464c-ac6e-d34109ef2213",
   "metadata": {},
   "outputs": [
    {
     "data": {
      "text/plain": [
       "2.5189861589380134"
      ]
     },
     "execution_count": 6,
     "metadata": {},
     "output_type": "execute_result"
    }
   ],
   "source": [
    "ALL.gas_concentrations[ALL.h2o_index]"
   ]
  },
  {
   "cell_type": "code",
   "execution_count": 7,
   "id": "05e66ffe-44c5-491f-bf84-79debb38c3dc",
   "metadata": {},
   "outputs": [
    {
     "data": {
      "text/plain": [
       "48.722462663911706"
      ]
     },
     "execution_count": 7,
     "metadata": {},
     "output_type": "execute_result"
    }
   ],
   "source": [
    "ALL.gas_partial_pressures[ALL.h2o_index]"
   ]
  },
  {
   "cell_type": "code",
   "execution_count": null,
   "id": "8de05d61-a9fa-4ec8-bf39-da1584718678",
   "metadata": {},
   "outputs": [],
   "source": []
  }
 ],
 "metadata": {
  "kernelspec": {
   "display_name": "PyPy",
   "language": "python",
   "name": "pypy"
  },
  "language_info": {
   "codemirror_mode": {
    "name": "ipython",
    "version": 3
   },
   "file_extension": ".py",
   "mimetype": "text/x-python",
   "name": "python",
   "nbconvert_exporter": "python",
   "pygments_lexer": "ipython3",
   "version": "3.7.10"
  }
 },
 "nbformat": 4,
 "nbformat_minor": 5
}
