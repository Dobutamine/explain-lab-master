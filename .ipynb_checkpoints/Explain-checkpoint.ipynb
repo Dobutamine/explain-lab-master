{
 "cells": [
  {
   "cell_type": "code",
   "execution_count": 1,
   "id": "696b5e8d-0289-467f-8b63-6e904d5c9da9",
   "metadata": {},
   "outputs": [
    {
     "name": "stdout",
     "output_type": "stream",
     "text": [
      "normal neonate model loaded and initialized correctly.\n"
     ]
    }
   ],
   "source": [
    "%config Completer.use_jedi = False\n",
    "from ModelEngine import ModelEngine\n",
    "neo = ModelEngine('normal_neonate.json').io"
   ]
  },
  {
   "cell_type": "code",
   "execution_count": 12,
   "id": "0aeab274-7d4d-4fc6-8254-2f10bf3eae8d",
   "metadata": {},
   "outputs": [
    {
     "data": {
      "text/plain": [
       "<ModelEngine.ModelEngine at 0x56543768f7c0>"
      ]
     },
     "execution_count": 12,
     "metadata": {},
     "output_type": "execute_result"
    }
   ],
   "source": [
    "neo.model"
   ]
  },
  {
   "cell_type": "markdown",
   "id": "992e048e-d1bb-4caa-bee5-eeaaa89debf5",
   "metadata": {},
   "source": [
    "[compliance code](core_models/Compliance.py)<br>\n",
    "[configuration](normal_neonate_24h.json)"
   ]
  },
  {
   "cell_type": "code",
   "execution_count": null,
   "id": "f6983e76-4069-4646-ba1e-31f06a9c2998",
   "metadata": {},
   "outputs": [],
   "source": []
  }
 ],
 "metadata": {
  "kernelspec": {
   "display_name": "PyPy",
   "language": "python",
   "name": "pypy"
  },
  "language_info": {
   "codemirror_mode": {
    "name": "ipython",
    "version": 3
   },
   "file_extension": ".py",
   "mimetype": "text/x-python",
   "name": "python",
   "nbconvert_exporter": "python",
   "pygments_lexer": "ipython3",
   "version": "3.7.10"
  }
 },
 "nbformat": 4,
 "nbformat_minor": 5
}
